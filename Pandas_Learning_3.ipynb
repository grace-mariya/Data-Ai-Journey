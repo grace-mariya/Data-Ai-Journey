{
  "nbformat": 4,
  "nbformat_minor": 0,
  "metadata": {
    "colab": {
      "provenance": [],
      "authorship_tag": "ABX9TyPTVA+dlKaoecmBt5WECKSW",
      "include_colab_link": true
    },
    "kernelspec": {
      "name": "python3",
      "display_name": "Python 3"
    },
    "language_info": {
      "name": "python"
    }
  },
  "cells": [
    {
      "cell_type": "markdown",
      "metadata": {
        "id": "view-in-github",
        "colab_type": "text"
      },
      "source": [
        "<a href=\"https://colab.research.google.com/github/grace-mariya/Data-Ai-Journey/blob/main/Pandas_Learning_3.ipynb\" target=\"_parent\"><img src=\"https://colab.research.google.com/assets/colab-badge.svg\" alt=\"Open In Colab\"/></a>"
      ]
    },
    {
      "cell_type": "markdown",
      "source": [
        "# Day 8"
      ],
      "metadata": {
        "id": "FJyVViJp1HjA"
      }
    },
    {
      "cell_type": "code",
      "execution_count": null,
      "metadata": {
        "id": "2KuFdziWnrBx",
        "colab": {
          "base_uri": "https://localhost:8080/"
        },
        "outputId": "4627dcb7-2329-412f-b1dc-fd790cc73014"
      },
      "outputs": [
        {
          "output_type": "stream",
          "name": "stdout",
          "text": [
            "   ID Name\n",
            "0   1    A\n",
            "1   2    B\n",
            "2   3    C\n",
            "0   4    D\n",
            "1   5    E\n",
            "2   6    F\n"
          ]
        }
      ],
      "source": [
        "#Merging joining and Concatenation\n",
        "import pandas as pd\n",
        "\n",
        "df1=pd.DataFrame({'ID':[1,2,3], \"Name\":['A','B','C']})\n",
        "df2=pd.DataFrame({'ID':[4,5,6], \"Name\":['D','E','F']})\n",
        "\n",
        "#combine vertically (add rows)\n",
        "result = pd.concat([df1, df2])\n",
        "print(result)"
      ]
    },
    {
      "cell_type": "code",
      "source": [
        "result = pd.concat([df1, df2], axis=1) #add by column\n",
        "print(result)\n"
      ],
      "metadata": {
        "colab": {
          "base_uri": "https://localhost:8080/"
        },
        "id": "uDKZ9kuW27i-",
        "outputId": "8e262c7f-b19b-432d-a7b4-61d52e1ab35c"
      },
      "execution_count": null,
      "outputs": [
        {
          "output_type": "stream",
          "name": "stdout",
          "text": [
            "   ID Name  ID Name\n",
            "0   1    A   4    D\n",
            "1   2    B   5    E\n",
            "2   3    C   6    F\n"
          ]
        }
      ]
    },
    {
      "cell_type": "code",
      "source": [
        "stud = pd.DataFrame({\n",
        "    'ID': [1,2,3,4],\n",
        "    'Name': [\"Grace\",\"Licin\",\"Treasa\",\"Farzi\"]\n",
        "})\n",
        "\n",
        "mrk=pd.DataFrame({\n",
        "    'ID':[1,2,3,5],\n",
        "    'Marks':[85,90,95,80]\n",
        "})\n",
        "\n",
        "#inner join-> only matching IDs\n",
        "print(\"Inner Join:\")\n",
        "inner = pd.merge(stud,mrk, on = 'ID', how='inner')\n",
        "print(inner)\n",
        "print(\"\\n\")\n",
        "# Left join → all from students\n",
        "print(\"Left join:\")\n",
        "left=pd.merge(stud,mrk,on='ID',how='left')\n",
        "print(left)\n",
        "print(\"\\n\")\n",
        "# Outer join → all from both\n",
        "print(\"Outer join:\")\n",
        "outer = pd.merge(stud, mrk, on='ID', how='outer')\n",
        "print(outer)\n"
      ],
      "metadata": {
        "colab": {
          "base_uri": "https://localhost:8080/"
        },
        "id": "3LwGW8F_3JRl",
        "outputId": "694f15c9-2271-465d-ddd2-e4dd6b467f82"
      },
      "execution_count": null,
      "outputs": [
        {
          "output_type": "stream",
          "name": "stdout",
          "text": [
            "Inner Join:\n",
            "   ID    Name  Marks\n",
            "0   1   Grace     85\n",
            "1   2   Licin     90\n",
            "2   3  Treasa     95\n",
            "\n",
            "\n",
            "Left join:\n",
            "   ID    Name  Marks\n",
            "0   1   Grace   85.0\n",
            "1   2   Licin   90.0\n",
            "2   3  Treasa   95.0\n",
            "3   4   Farzi    NaN\n",
            "\n",
            "\n",
            "Outer join:\n",
            "   ID    Name  Marks\n",
            "0   1   Grace   85.0\n",
            "1   2   Licin   90.0\n",
            "2   3  Treasa   95.0\n",
            "3   4   Farzi    NaN\n",
            "4   5     NaN   80.0\n"
          ]
        }
      ]
    },
    {
      "cell_type": "markdown",
      "source": [
        "# Day 9"
      ],
      "metadata": {
        "id": "TciMGUr76giG"
      }
    },
    {
      "cell_type": "code",
      "source": [
        "#set & reset index\n",
        "import pandas as pd\n",
        "data = pd.DataFrame({\n",
        "    'ID': [1, 2, 3],\n",
        "    'Name': ['Alice', 'Bob', 'Charlie'],\n",
        "    'Marks': [85, 90, 95]\n",
        "})\n",
        "\n",
        "# Set index\n",
        "data = data.set_index('ID')\n",
        "print(data)\n",
        "\n",
        "print(\"\\n\")\n",
        "\n",
        "# Reset index back to normal\n",
        "data = data.reset_index()\n",
        "print(data)\n"
      ],
      "metadata": {
        "colab": {
          "base_uri": "https://localhost:8080/"
        },
        "id": "rQ26sfK96l_v",
        "outputId": "475dcc8e-dffb-425f-fb52-fef82590ae8a"
      },
      "execution_count": null,
      "outputs": [
        {
          "output_type": "stream",
          "name": "stdout",
          "text": [
            "       Name  Marks\n",
            "ID                \n",
            "1     Alice     85\n",
            "2       Bob     90\n",
            "3   Charlie     95\n",
            "\n",
            "\n",
            "   ID     Name  Marks\n",
            "0   1    Alice     85\n",
            "1   2      Bob     90\n",
            "2   3  Charlie     95\n"
          ]
        }
      ]
    },
    {
      "cell_type": "code",
      "source": [
        "multi = pd.DataFrame({\n",
        "    'Class': ['10', '10', '11', '11'],\n",
        "    'Section': ['A', 'B', 'A', 'B'],\n",
        "    'Student': ['A', 'B', 'C', 'D'],\n",
        "    'Marks': [85, 88, 90, 92]\n",
        "})\n",
        "\n",
        "multi = multi.set_index(['Class', 'Section'])\n",
        "print(multi)\n",
        "\n",
        "print(\"\\n\")\n",
        "\n",
        "# Access a specific group\n",
        "print(multi.loc['10'])\n"
      ],
      "metadata": {
        "colab": {
          "base_uri": "https://localhost:8080/"
        },
        "id": "N_dYwKG39vo_",
        "outputId": "63fd26cf-b409-475e-d9a2-3a46cfe47f2e"
      },
      "execution_count": null,
      "outputs": [
        {
          "output_type": "stream",
          "name": "stdout",
          "text": [
            "              Student  Marks\n",
            "Class Section               \n",
            "10    A             A     85\n",
            "      B             B     88\n",
            "11    A             C     90\n",
            "      B             D     92\n",
            "\n",
            "\n",
            "        Student  Marks\n",
            "Section               \n",
            "A             A     85\n",
            "B             B     88\n"
          ]
        }
      ]
    },
    {
      "cell_type": "code",
      "source": [
        "#String Operation\n",
        "df=pd.DataFrame({'Name':['Alice','bob','CHARLIE']})\n",
        "df['Name_clean']=df['Name'].str.strip().str.title()\n",
        "print(df)"
      ],
      "metadata": {
        "colab": {
          "base_uri": "https://localhost:8080/"
        },
        "id": "nmUre1kJ_Cu2",
        "outputId": "47658df7-f27f-4fc3-dcdb-bff66ce2aa87"
      },
      "execution_count": null,
      "outputs": [
        {
          "output_type": "stream",
          "name": "stdout",
          "text": [
            "      Name Name_clean\n",
            "0    Alice      Alice\n",
            "1      bob        Bob\n",
            "2  CHARLIE    Charlie\n"
          ]
        }
      ]
    },
    {
      "cell_type": "code",
      "source": [
        "#Datetime Operation:\n",
        "df=pd.DataFrame({\n",
        "    'Date':['2025-01-01', '2025-02-01', '2025-03-01']})\n",
        "df['Date']=pd.to_datetime(df['Date'])\n",
        "df['Month']=df['Date'].dt.month\n",
        "df['Day']=df['Date'].dt.day_name()\n",
        "print(df)\n"
      ],
      "metadata": {
        "colab": {
          "base_uri": "https://localhost:8080/"
        },
        "id": "oSW8uKkiwj5t",
        "outputId": "0efcc59a-0ff1-43a9-9dbe-6a92980a96a3"
      },
      "execution_count": null,
      "outputs": [
        {
          "output_type": "stream",
          "name": "stdout",
          "text": [
            "        Date  Month        Day\n",
            "0 2025-01-01      1  Wednesday\n",
            "1 2025-02-01      2   Saturday\n",
            "2 2025-03-01      3   Saturday\n"
          ]
        }
      ]
    }
  ]
}